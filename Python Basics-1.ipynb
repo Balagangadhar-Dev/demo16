{
 "cells": [
  {
   "cell_type": "code",
   "execution_count": null,
   "id": "8e01bc17",
   "metadata": {},
   "outputs": [],
   "source": []
  }
 ],
 "metadata": {
  "language_info": {
   "name": "python"
  }
 },
 "nbformat": 4,
 "nbformat_minor": 5
}
