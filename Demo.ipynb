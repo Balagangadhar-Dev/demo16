{
 "cells": [
  {
   "cell_type": "markdown",
   "id": "e2966d41",
   "metadata": {},
   "source": [
    "# Neflix APP"
   ]
  },
  {
   "cell_type": "code",
   "execution_count": 19,
   "id": "40e0d689",
   "metadata": {},
   "outputs": [],
   "source": [
    "user_name = input(\"Enter your name: \")\n",
    "user_password = input(\"Enter your password: \")"
   ]
  },
  {
   "cell_type": "code",
   "execution_count": 31,
   "id": "e763f409",
   "metadata": {},
   "outputs": [
    {
     "name": "stdout",
     "output_type": "stream",
     "text": [
      "Welcome to Netflix Login!\n",
      "Login successful!\n"
     ]
    }
   ],
   "source": [
    "print(\"Welcome to Netflix Login!\")\n",
    "\n",
    "\n",
    "\n",
    "for i in range(1,4):\n",
    "    c_name = input(\"Enter your username: \")\n",
    "    c_password = input(\"Enter your password: \")\n",
    "    if c_name == user_name and c_password == user_password:\n",
    "        print(\"Login successful!\")\n",
    "        break\n",
    "    else:\n",
    "        print(f\"Login failed! Attempt {i} of 3.\")\n",
    "        print(\"If you forgot your password, please reset it.\")\n",
    "        print(\"If you don't have an account, please sign up.\")\n",
    "    \n",
    "\n",
    "\n"
   ]
  },
  {
   "cell_type": "code",
   "execution_count": 33,
   "id": "103b67fa",
   "metadata": {},
   "outputs": [
    {
     "name": "stdout",
     "output_type": "stream",
     "text": [
      "Welcome to Netflix!\n",
      "Choose the a plan that suits you best:\n",
      "1. Basic Plan\n",
      "2. Standard Plan\n",
      "3. Premium Plan\n",
      "You have chosen the Standard Plan.\n"
     ]
    }
   ],
   "source": [
    "print(\"Welcome to Netflix!\")\n",
    "print(\"Choose the a plan that suits you best:\")\n",
    "print(\"1. Basic Plan\")\n",
    "print(\"2. Standard Plan\")\n",
    "print(\"3. Premium Plan\")\n",
    "plan_choice = input(\"Enter the number of your chosen plan: \")\n",
    "if plan_choice == \"1\":\n",
    "    print(\"You have chosen the Basic Plan.\")\n",
    "elif plan_choice == \"2\":\n",
    "    print(\"You have chosen the Standard Plan.\")\n",
    "elif plan_choice == \"3\":\n",
    "    print(\"You have chosen the Premium Plan.\")\n",
    "else:\n",
    "    print(\"Invalid choice. Please try again.\")"
   ]
  },
  {
   "cell_type": "code",
   "execution_count": 34,
   "id": "5363328b",
   "metadata": {},
   "outputs": [
    {
     "name": "stdout",
     "output_type": "stream",
     "text": [
      "Available movies:\n",
      "- Inception\n",
      "- The Matrix\n",
      "- Interstellar\n",
      "- The Dark Knight\n"
     ]
    }
   ],
   "source": [
    "movies = [\"Inception\", \"The Matrix\", \"Interstellar\", \"The Dark Knight\"]\n",
    "print(\"Available movies:\")\n",
    "for movie in movies:\n",
    "    print(f\"- {movie}\")"
   ]
  },
  {
   "cell_type": "code",
   "execution_count": null,
   "id": "49e7be8a",
   "metadata": {},
   "outputs": [],
   "source": []
  },
  {
   "cell_type": "code",
   "execution_count": null,
   "id": "4875460b",
   "metadata": {},
   "outputs": [],
   "source": []
  },
  {
   "cell_type": "code",
   "execution_count": null,
   "id": "244ff6a1",
   "metadata": {},
   "outputs": [],
   "source": []
  },
  {
   "cell_type": "code",
   "execution_count": null,
   "id": "19dbad05",
   "metadata": {},
   "outputs": [],
   "source": []
  },
  {
   "cell_type": "code",
   "execution_count": null,
   "id": "67d933d1",
   "metadata": {},
   "outputs": [],
   "source": []
  },
  {
   "cell_type": "code",
   "execution_count": null,
   "id": "8192ff64",
   "metadata": {},
   "outputs": [],
   "source": []
  },
  {
   "cell_type": "code",
   "execution_count": null,
   "id": "cae910de",
   "metadata": {},
   "outputs": [],
   "source": []
  },
  {
   "cell_type": "code",
   "execution_count": null,
   "id": "b6ceb7f5",
   "metadata": {},
   "outputs": [],
   "source": []
  },
  {
   "cell_type": "code",
   "execution_count": null,
   "id": "446342aa",
   "metadata": {},
   "outputs": [],
   "source": []
  },
  {
   "cell_type": "code",
   "execution_count": null,
   "id": "5b634a3b",
   "metadata": {},
   "outputs": [],
   "source": []
  },
  {
   "cell_type": "code",
   "execution_count": null,
   "id": "9f965991",
   "metadata": {},
   "outputs": [],
   "source": []
  },
  {
   "cell_type": "code",
   "execution_count": null,
   "id": "a957c63c",
   "metadata": {},
   "outputs": [],
   "source": []
  },
  {
   "cell_type": "code",
   "execution_count": null,
   "id": "b5586049",
   "metadata": {},
   "outputs": [],
   "source": []
  },
  {
   "cell_type": "code",
   "execution_count": null,
   "id": "f6c39473",
   "metadata": {},
   "outputs": [],
   "source": []
  },
  {
   "cell_type": "code",
   "execution_count": null,
   "id": "5d0df640",
   "metadata": {},
   "outputs": [],
   "source": []
  },
  {
   "cell_type": "code",
   "execution_count": null,
   "id": "aa1cf4da",
   "metadata": {},
   "outputs": [],
   "source": []
  },
  {
   "cell_type": "code",
   "execution_count": null,
   "id": "74372740",
   "metadata": {},
   "outputs": [],
   "source": []
  },
  {
   "cell_type": "code",
   "execution_count": null,
   "id": "9189856f",
   "metadata": {},
   "outputs": [],
   "source": []
  },
  {
   "cell_type": "code",
   "execution_count": null,
   "id": "fe9b21ca",
   "metadata": {},
   "outputs": [],
   "source": []
  },
  {
   "cell_type": "code",
   "execution_count": null,
   "id": "dd121c07",
   "metadata": {},
   "outputs": [],
   "source": []
  },
  {
   "cell_type": "code",
   "execution_count": null,
   "id": "62e5028c",
   "metadata": {},
   "outputs": [],
   "source": []
  },
  {
   "cell_type": "code",
   "execution_count": null,
   "id": "76681f84",
   "metadata": {},
   "outputs": [],
   "source": []
  },
  {
   "cell_type": "code",
   "execution_count": null,
   "id": "5b620cc8",
   "metadata": {},
   "outputs": [],
   "source": []
  },
  {
   "cell_type": "code",
   "execution_count": null,
   "id": "3f6531ee",
   "metadata": {},
   "outputs": [],
   "source": []
  },
  {
   "cell_type": "code",
   "execution_count": null,
   "id": "f4ea7c72",
   "metadata": {},
   "outputs": [],
   "source": []
  },
  {
   "cell_type": "code",
   "execution_count": null,
   "id": "e9776119",
   "metadata": {},
   "outputs": [],
   "source": []
  }
 ],
 "metadata": {
  "kernelspec": {
   "display_name": "Python 3",
   "language": "python",
   "name": "python3"
  },
  "language_info": {
   "codemirror_mode": {
    "name": "ipython",
    "version": 3
   },
   "file_extension": ".py",
   "mimetype": "text/x-python",
   "name": "python",
   "nbconvert_exporter": "python",
   "pygments_lexer": "ipython3",
   "version": "3.11.12"
  }
 },
 "nbformat": 4,
 "nbformat_minor": 5
}
